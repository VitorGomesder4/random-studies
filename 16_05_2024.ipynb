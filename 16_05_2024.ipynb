{
  "nbformat": 4,
  "nbformat_minor": 0,
  "metadata": {
    "colab": {
      "provenance": [],
      "authorship_tag": "ABX9TyPWT8zLrmOlEwcB5zb61OXY",
      "include_colab_link": true
    },
    "kernelspec": {
      "name": "python3",
      "display_name": "Python 3"
    },
    "language_info": {
      "name": "python"
    }
  },
  "cells": [
    {
      "cell_type": "markdown",
      "metadata": {
        "id": "view-in-github",
        "colab_type": "text"
      },
      "source": [
        "<a href=\"https://colab.research.google.com/github/VitorGomesder4/random-studies/blob/main/16_05_2024.ipynb\" target=\"_parent\"><img src=\"https://colab.research.google.com/assets/colab-badge.svg\" alt=\"Open In Colab\"/></a>"
      ]
    },
    {
      "cell_type": "markdown",
      "source": [
        "Vitor Gomes Araújo ES - N1"
      ],
      "metadata": {
        "id": "7-6D4V8kg7T2"
      }
    },
    {
      "cell_type": "code",
      "source": [
        "#modularização/decomposição\n",
        "#import pandas as pd é modulo"
      ],
      "metadata": {
        "id": "zjtj9l6gtwCE"
      },
      "execution_count": null,
      "outputs": []
    },
    {
      "cell_type": "code",
      "source": [
        "print()\n",
        "print(\"%f\"%5.0)"
      ],
      "metadata": {
        "colab": {
          "base_uri": "https://localhost:8080/"
        },
        "id": "556sp9f1vm30",
        "outputId": "1cfd5dc2-2f18-446a-f64d-681d3dcb0b25"
      },
      "execution_count": null,
      "outputs": [
        {
          "output_type": "stream",
          "name": "stdout",
          "text": [
            "\n",
            "5.000000\n"
          ]
        }
      ]
    },
    {
      "cell_type": "code",
      "source": [
        "a = float(input(\"Digite um numero real: \"))\n",
        "b = float(input(\"Digite um numero real: \"))\n",
        "somar = a + b\n",
        "subtrair = a - b\n",
        "dividir = a / b\n",
        "multiplicar = a * b"
      ],
      "metadata": {
        "colab": {
          "base_uri": "https://localhost:8080/"
        },
        "id": "u5BPVfgPwNmm",
        "outputId": "43d0f3cb-c38f-4493-c548-c7de6054c97f"
      },
      "execution_count": null,
      "outputs": [
        {
          "name": "stdout",
          "output_type": "stream",
          "text": [
            "Digite um numero real: 2\n",
            "Digite um numero real: 3\n"
          ]
        }
      ]
    },
    {
      "cell_type": "code",
      "source": [
        "numero = 10\n",
        "def quadrado(numero):\n",
        "  return numero*numero\n",
        "print(quadrado)"
      ],
      "metadata": {
        "colab": {
          "base_uri": "https://localhost:8080/"
        },
        "id": "MmPvfdbKy2w-",
        "outputId": "6079e9f0-701e-4a62-8a5b-aa0901cddb3d"
      },
      "execution_count": null,
      "outputs": [
        {
          "output_type": "stream",
          "name": "stdout",
          "text": [
            "<function quadrado at 0x7e254a7a0700>\n"
          ]
        }
      ]
    },
    {
      "cell_type": "code",
      "source": [
        "def imprimequadrado(numero):\n",
        "  if numero==1:\n",
        "    return\n",
        "  print(\"%d\\t\"%(numero*numero))\n",
        "def quadrado(numero):\n",
        "  return(numero*numero)\n",
        "tamanho = 6\n",
        "numQuadrado = 0\n",
        "for i in range(tamanho):\n",
        "  imprimequadrado(i)"
      ],
      "metadata": {
        "colab": {
          "base_uri": "https://localhost:8080/"
        },
        "id": "DfBBLHNgyHnZ",
        "outputId": "af08cad9-2ae8-4e1c-84f2-994a71152da3"
      },
      "execution_count": null,
      "outputs": [
        {
          "output_type": "stream",
          "name": "stdout",
          "text": [
            "0\t\n",
            "4\t\n",
            "9\t\n",
            "16\t\n",
            "25\t\n"
          ]
        }
      ]
    },
    {
      "cell_type": "code",
      "source": [
        "#tamanho do data frame mudar nome do rotulo"
      ],
      "metadata": {
        "id": "PHf7ZWwa7zms"
      },
      "execution_count": null,
      "outputs": []
    }
  ]
}